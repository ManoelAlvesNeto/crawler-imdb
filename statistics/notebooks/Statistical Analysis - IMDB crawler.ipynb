{
 "cells": [
  {
   "cell_type": "code",
   "execution_count": 1,
   "metadata": {},
   "outputs": [],
   "source": [
    "import json\n",
    "from collections import Counter"
   ]
  },
  {
   "cell_type": "code",
   "execution_count": 2,
   "metadata": {},
   "outputs": [],
   "source": [
    "def read_data():\n",
    "    data = \"../files_for_tests/data.json\"\n",
    "    data_movies = []\n",
    "    with open(data) as file:  \n",
    "        data_movies = json.load(file)\n",
    "    return data_movies"
   ]
  },
  {
   "cell_type": "code",
   "execution_count": 3,
   "metadata": {},
   "outputs": [],
   "source": [
    "movies_data = read_data()"
   ]
  },
  {
   "cell_type": "code",
   "execution_count": 4,
   "metadata": {},
   "outputs": [
    {
     "data": {
      "text/plain": [
       "{'_id': {'$oid': '5c19606ba21d900444de36b4'},\n",
       " 'id': 1,\n",
       " 'title': 'Aquaman',\n",
       " 'runtime': 143,\n",
       " 'summary': 'Arthur Curry learns that he is the heir to the underwater kingdom of Atlantis, and must step forward to lead his people and be a hero to the world.',\n",
       " 'year': 2018,\n",
       " 'rating': 7.9,\n",
       " 'stars': ['Jason Momoa', 'Amber Heard', 'Willem Dafoe', 'Patrick Wilson'],\n",
       " 'directors': ['James Wan'],\n",
       " 'genre': ['Action', 'Adventure', 'Fantasy']}"
      ]
     },
     "execution_count": 4,
     "metadata": {},
     "output_type": "execute_result"
    }
   ],
   "source": [
    "movies_data[0]"
   ]
  },
  {
   "cell_type": "markdown",
   "metadata": {},
   "source": [
    "### Qual o tempo de duração médio dos filmes obtidos?"
   ]
  },
  {
   "cell_type": "code",
   "execution_count": 5,
   "metadata": {},
   "outputs": [],
   "source": [
    "def avg_runtime_movies(data):\n",
    "    runtime_movies = 0\n",
    "    runtime_movies_count = 0\n",
    "    for movie_dict in data:\n",
    "        for key,value in movie_dict.items():\n",
    "            if key == 'runtime':\n",
    "                runtime_movies += value\n",
    "                runtime_movies_count += 1\n",
    "    \n",
    "    return runtime_movies / runtime_movies_count"
   ]
  },
  {
   "cell_type": "code",
   "execution_count": 6,
   "metadata": {},
   "outputs": [
    {
     "data": {
      "text/plain": [
       "98.4"
      ]
     },
     "execution_count": 6,
     "metadata": {},
     "output_type": "execute_result"
    }
   ],
   "source": [
    "avg_runtime_movies(movies_data)"
   ]
  },
  {
   "cell_type": "markdown",
   "metadata": {},
   "source": [
    "### Quais são os diretores preferidos?"
   ]
  },
  {
   "cell_type": "code",
   "execution_count": 7,
   "metadata": {},
   "outputs": [],
   "source": [
    "def desired_directors(data):\n",
    "    directors = []\n",
    "    direcotrs_counter = []\n",
    "    for movie_dict in data:\n",
    "        for key,value in movie_dict.items():\n",
    "            if key == 'directors':\n",
    "                directors = directors + value\n",
    "                \n",
    "    direcotrs_counter = Counter(directors)\n",
    "    direcotrs_counter = direcotrs_counter.most_common()\n",
    "    \n",
    "    return direcotrs_counter"
   ]
  },
  {
   "cell_type": "code",
   "execution_count": 8,
   "metadata": {},
   "outputs": [
    {
     "data": {
      "text/plain": [
       "[('Jon Watts', 3),\n",
       " ('Bob Persichetti', 2),\n",
       " ('Peter Ramsey', 2),\n",
       " ('Rodney Rothman', 2),\n",
       " ('Anthony Russo', 2),\n",
       " ('Joe Russo', 2),\n",
       " ('David Leitch', 2),\n",
       " ('Peyton Reed', 2),\n",
       " ('Sam Levinson', 2),\n",
       " ('Brad Bird', 2)]"
      ]
     },
     "execution_count": 8,
     "metadata": {},
     "output_type": "execute_result"
    }
   ],
   "source": [
    "desired_directors(movies_data)[:10]"
   ]
  },
  {
   "cell_type": "markdown",
   "metadata": {},
   "source": [
    "### Qual a probabilidade de cada filme em seu gênero ter uma avaliação superior a 8?"
   ]
  },
  {
   "cell_type": "code",
   "execution_count": 48,
   "metadata": {},
   "outputs": [],
   "source": [
    "def probability_of_each_genre(data, threshold):\n",
    "    \n",
    "    #Getting genres\n",
    "    genres = []    \n",
    "    for movie_dict in data:\n",
    "        for genre in movie_dict['genre']:\n",
    "            if genre not in genres: \n",
    "                genres.append(genre)\n",
    "    \n",
    "\n",
    "    #Making genres dict \n",
    "    dict_genres_rating = {}\n",
    "    for genre in genres:\n",
    "        dict_genres_rating[genre] = []\n",
    "        \n",
    "    #Getting the rating of each genre\n",
    "    for movie in data:\n",
    "        for movie_genre in movie['genre']:\n",
    "            dict_genres_rating[movie_genre].append(movie['rating'])\n",
    "    \n",
    "    res = {}\n",
    "    for gen in genres:\n",
    "        total = len(dict_genres_rating[gen])\n",
    "        total_of_best_rating = filter_by_rating(dict_genres_rating[gen], threshold)\n",
    "        res[gen] = total_of_best_rating/total\n",
    "    \n",
    "    return res"
   ]
  },
  {
   "cell_type": "code",
   "execution_count": 49,
   "metadata": {},
   "outputs": [],
   "source": [
    "def filter_by_rating(ratings, threshold):\n",
    "    ret = 0\n",
    "    for v in ratings:\n",
    "        if v > threshold: ret+=1\n",
    "    return ret"
   ]
  },
  {
   "cell_type": "code",
   "execution_count": 50,
   "metadata": {},
   "outputs": [
    {
     "data": {
      "text/plain": [
       "{'Action': 0.1,\n",
       " 'Adventure': 0.08163265306122448,\n",
       " 'Fantasy': 0.1,\n",
       " 'Animation': 0.23076923076923078,\n",
       " 'Sci-Fi': 0.0,\n",
       " 'Thriller': 0.14285714285714285,\n",
       " 'Horror': 0.0,\n",
       " 'Drama': 0.15789473684210525,\n",
       " 'Comedy': 0.05555555555555555,\n",
       " 'Crime': 0.0625,\n",
       " 'Biography': 0.4,\n",
       " 'Musical': 0.0,\n",
       " 'Family': 0.0,\n",
       " 'Romance': 0.0}"
      ]
     },
     "execution_count": 50,
     "metadata": {},
     "output_type": "execute_result"
    }
   ],
   "source": [
    "probability_of_each_genre(movies_data, 8)"
   ]
  },
  {
   "cell_type": "markdown",
   "metadata": {},
   "source": [
    "###  Qual a probabilidade de um filme ter avaliação superior a 8, considerando que ele não possui um diretor americano?"
   ]
  },
  {
   "cell_type": "code",
   "execution_count": 76,
   "metadata": {},
   "outputs": [],
   "source": [
    "def probability_movies_rating(data, threshold, year):\n",
    "    dict_movies_limit_by_year = {}\n",
    "    dict_movies_limit_by_year['before_'+str(year)] = []\n",
    "    dict_movies_limit_by_year['after_'+str(year)] = []\n",
    "    \n",
    "    #povoar o dict\n",
    "    for movie_dict in data:\n",
    "        if movie_dict['year'] > year:\n",
    "            dict_movies_limit_by_year['before_'+str(year)].append(movie_dict['rating'])\n",
    "        else:\n",
    "            dict_movies_limit_by_year['after_'+str(year)].append(movie_dict['rating'])\n",
    "    \n",
    "    res = {}\n",
    "    res['before_'+str(year)] = filter_by_rating(dict_movies_limit_by_year['before_'+str(year)] ,threshold)/len(dict_movies_limit_by_year['before_'+str(year)])\n",
    "    res['after'+str(year)] = filter_by_rating(dict_movies_limit_by_year['after_'+str(year)], threshold) / len(dict_movies_limit_by_year['after_'+str(year)])\n",
    "    \n",
    "    return res"
   ]
  },
  {
   "cell_type": "code",
   "execution_count": 77,
   "metadata": {},
   "outputs": [
    {
     "data": {
      "text/plain": [
       "{'before_2001': 0.07865168539325842, 'after2001': 0.18181818181818182}"
      ]
     },
     "execution_count": 77,
     "metadata": {},
     "output_type": "execute_result"
    }
   ],
   "source": [
    "probability_movies_rating(movies_data, 8, 2001)"
   ]
  }
 ],
 "metadata": {
  "kernelspec": {
   "display_name": "Python 3",
   "language": "python",
   "name": "python3"
  },
  "language_info": {
   "codemirror_mode": {
    "name": "ipython",
    "version": 3
   },
   "file_extension": ".py",
   "mimetype": "text/x-python",
   "name": "python",
   "nbconvert_exporter": "python",
   "pygments_lexer": "ipython3",
   "version": "3.6.5"
  }
 },
 "nbformat": 4,
 "nbformat_minor": 2
}
