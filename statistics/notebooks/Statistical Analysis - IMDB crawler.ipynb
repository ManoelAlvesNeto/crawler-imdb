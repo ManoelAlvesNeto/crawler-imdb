{
 "cells": [
  {
   "cell_type": "code",
   "execution_count": 37,
   "metadata": {},
   "outputs": [],
   "source": [
    "import json"
   ]
  },
  {
   "cell_type": "code",
   "execution_count": 48,
   "metadata": {},
   "outputs": [],
   "source": [
    "def read_data():\n",
    "    data = \"../files_for_tests/data.json\"\n",
    "    data_movies = []\n",
    "    with open(data) as file:  \n",
    "        data_movies = json.load(file)\n",
    "    return data_movies"
   ]
  },
  {
   "cell_type": "code",
   "execution_count": 50,
   "metadata": {},
   "outputs": [
    {
     "data": {
      "text/plain": [
       "{'_id': {'$oid': '5c19606ba21d900444de36b4'},\n",
       " 'id': 1,\n",
       " 'title': 'Aquaman',\n",
       " 'runtime': 143,\n",
       " 'summary': 'Arthur Curry learns that he is the heir to the underwater kingdom of Atlantis, and must step forward to lead his people and be a hero to the world.',\n",
       " 'year': 2018,\n",
       " 'rating': 7.9,\n",
       " 'stars': ['Jason Momoa', 'Amber Heard', 'Willem Dafoe', 'Patrick Wilson'],\n",
       " 'directors': ['James Wan'],\n",
       " 'genre': ['Action', 'Adventure', 'Fantasy']}"
      ]
     },
     "execution_count": 50,
     "metadata": {},
     "output_type": "execute_result"
    }
   ],
   "source": [
    "read_data()[0]"
   ]
  },
  {
   "cell_type": "code",
   "execution_count": null,
   "metadata": {},
   "outputs": [],
   "source": []
  }
 ],
 "metadata": {
  "kernelspec": {
   "display_name": "Python 3",
   "language": "python",
   "name": "python3"
  },
  "language_info": {
   "codemirror_mode": {
    "name": "ipython",
    "version": 3
   },
   "file_extension": ".py",
   "mimetype": "text/x-python",
   "name": "python",
   "nbconvert_exporter": "python",
   "pygments_lexer": "ipython3",
   "version": "3.6.5"
  }
 },
 "nbformat": 4,
 "nbformat_minor": 2
}
